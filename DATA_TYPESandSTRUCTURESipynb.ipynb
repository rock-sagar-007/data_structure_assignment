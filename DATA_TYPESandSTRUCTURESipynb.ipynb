{
  "nbformat": 4,
  "nbformat_minor": 0,
  "metadata": {
    "colab": {
      "provenance": []
    },
    "kernelspec": {
      "name": "python3",
      "display_name": "Python 3"
    },
    "language_info": {
      "name": "python"
    }
  },
  "cells": [
    {
      "cell_type": "markdown",
      "source": [
        "# DATA_TYPES_and_STRUCTURES_ASSIGNMENTS"
      ],
      "metadata": {
        "id": "N7el_CMrDqvR"
      }
    },
    {
      "cell_type": "markdown",
      "source": [
        "#1. What are data structures, and why are they important?\n",
        "-Data structures are the way of storing and organising data so that it can be accessed and manipulated efficiently.\n",
        "-e.g-string,tupple,set,dictionary,array,etc.\n",
        "#2.Explain the difference between mutable and immutable data types with examples\n",
        "-mutable data types-->those datatypes whose values can be changed after it is created.e.g.--lists,dictionaries,sets\n",
        "-immutable data types-->those datatypes whose values cannot be changed after it is created,e.g.->string,tuple\n",
        "#3.What are the main differences between lists and tuples in Python?\n",
        "- the main differences between lists and tuples in Python is that tuples are immutable while lists are mutable\n",
        "#4.Describe how dictionaries store data\n",
        "-a dictionary data type stores data in key-value pairs written within curly brackets{key:value}..e.g--{\"name\":\"sagar\"}\n",
        "#5. Why might you use a set instead of a list in Python?\n",
        "-sets provide uniqueness.i.e.if we need a collection of unique items or need to perform set operations, a set is a better choice than a list.\n",
        "list may contain duplicate elements but set has unique elements.\n",
        "#6. What is a string in Python, and how is it different from a list?\n",
        "-A string in Python is a sequence of characters enclosed within single quotes ('), double quotes (\"), or triple quotes (''' or \"\"\"). Strings are used to represent text data.\n",
        "it is different from lists as list can store various different datatypes in a single list.\n",
        "e.g.-->s={\"name\",\"roll\",\"sagar\"}\n",
        "e.g.-->l={1,2.0,4+7j,\"sagar\",(3,4,5)}\n",
        "#7.How do tuples ensure data integrity in Python\n",
        "-Tuples in Python ensures data integrity due to their immutable nature.\n",
        "#8. What is a hash table, and how does it relate to dictionaries in Python\n",
        "-A Hash table is  a data structure used to insert, look up, and remove key-value pairs quickly. Just like hash tables, dictionaries store data in key-value pairs. Each key is hashed to generate an index where the value is stored.\n",
        "#9.can lists contain different data types in Python\n",
        "-yes,list can contain different data types in a single list.\n",
        "e.g.-->l={1,2.0,4+7j,\"sagar\",(3,4,5)}\n",
        "#10.Explain why strings are immutable in Python\n",
        "-Strings in Python are immutablewhich means they can not be changed after they are created.if strings weren't immutable, wecouldn't reliably use them as keys in a dict, since their hash value might suddenly change.\n",
        "#11.What advantages do dictionaries offer over lists for certain tasks\n",
        "- Lists are linear in nature whereas dictionaries stored the data in key-value pairs. Lists can duplicate values since each values have unique index.Dictionaries cannot contain duplicate keys but can contain duplicate values since each value has unique key.\n",
        "#12. Describe a scenario where using a tuple would be preferable over a list\n",
        "-When we want to ensure that data is not changed accidentally. Tuples being immutable do not allow any changes in its data.\n",
        "-When we want faster access to data that will not change as tuples are faster than lists\n",
        "#13. How do sets handle duplicate values in Python\n",
        "-In Python, sets are a collection type that automatically handle duplicate values by ensuring that each element is unique. When you add elements to a set, any duplicate values are automatically removed.\n",
        "#14. How does the “in” keyword work differently for lists and dictionaries\n",
        "-The in  operator works on dictionaries as  it tells you whether something appears or not as a key in the dictionary. It returns two values True or False\n",
        "while in lists \"in\" can be used for traversal.\n",
        "#15.Can you modify the elements of a tuple? Explain why or why not\n",
        "-Once a tuple is created,we cannot change its values. Tuples are unchangeable, or immutable .\n",
        "#16. What is a nested dictionary, and give an example of its use case\n",
        "-Nesting Dictionary means putting a dictionary inside another dictionary.\n",
        "{'Dict1': {'name': 'Ali', 'age': '19'}, 'Dict2': {'name': 'Bob', 'age': '25'}}\n",
        "#17.Describe the time complexity of accessing elements in a dictionary\n",
        "-The time complexity of retrieving a value by its key in a dictionary is O(1). This is because dictionaries use a hash table internally which allows constant time lookup.\n",
        "#18.in what situations are lists preferred over dictionaries\n",
        "-A list keeps order, dict and set don't: when we care about order, therefore, we must use list .\n",
        "#19.Why are dictionaries considered unordered, and how does that affect data retrieval\n",
        "-A dictionary is termed an unordered collection of objects because dictionaries do not maintain any inherent order of the items based on when they were added. In older versions of Python (before 3.7), dictionaries did not preserve insertion order at all.\n",
        "Starting from Python 3.7, dictionaries do retain insertion order as an implementation detail, meaning elements appear in the order they were added when you print or iterate over them\n",
        "#20. Explain the difference between a list and a dictionary in terms of data retrieval.\n",
        "-A list is an ordered collection of items, whereas a dictionary is an unordered data collection in a key: value pair. Elements from the list can be accessed using the index, while the elements of the dictionary can be accessed using keys."
      ],
      "metadata": {
        "id": "haMmVIO0D42-"
      }
    },
    {
      "cell_type": "markdown",
      "source": [
        "# PRACTICAL QUESTIONS"
      ],
      "metadata": {
        "id": "JWNZ7nZhVzna"
      }
    },
    {
      "cell_type": "code",
      "source": [
        "#1.Write a code to create a string with your name and print it\n",
        "s=\"SAGAR KUMAR\"\n",
        "print(s)"
      ],
      "metadata": {
        "id": "-yOvVCDcDoUa",
        "colab": {
          "base_uri": "https://localhost:8080/"
        },
        "outputId": "90af6090-2bed-4946-8501-d2244f50a594"
      },
      "execution_count": 2,
      "outputs": [
        {
          "output_type": "stream",
          "name": "stdout",
          "text": [
            "SAGAR KUMAR\n"
          ]
        }
      ]
    },
    {
      "cell_type": "markdown",
      "source": [],
      "metadata": {
        "id": "FhCw7IqcDp-N"
      }
    },
    {
      "cell_type": "markdown",
      "source": [
        "# New Section"
      ],
      "metadata": {
        "id": "IGVLEOI9DmSd"
      }
    },
    {
      "cell_type": "code",
      "execution_count": 3,
      "metadata": {
        "id": "QE3TsXITDd_z",
        "colab": {
          "base_uri": "https://localhost:8080/"
        },
        "outputId": "027cd088-c83a-4fd2-e584-950c00272e62"
      },
      "outputs": [
        {
          "output_type": "stream",
          "name": "stdout",
          "text": [
            "11\n"
          ]
        }
      ],
      "source": [
        "#2. Write a code to find the length of the string \"Hello World\"\n",
        "a= \"Hello World\"\n",
        "print(len(a))"
      ]
    },
    {
      "cell_type": "code",
      "source": [
        "#3. Write a code to slice the first 3 characters from the string \"Python Programming\"\n",
        "a=\"Python Programming\"\n",
        "a[3:]"
      ],
      "metadata": {
        "colab": {
          "base_uri": "https://localhost:8080/",
          "height": 36
        },
        "id": "BRl-HBFbWVzV",
        "outputId": "786aa22d-157d-429f-a169-9d1c34ef0dbf"
      },
      "execution_count": 4,
      "outputs": [
        {
          "output_type": "execute_result",
          "data": {
            "text/plain": [
              "'hon Programming'"
            ],
            "application/vnd.google.colaboratory.intrinsic+json": {
              "type": "string"
            }
          },
          "metadata": {},
          "execution_count": 4
        }
      ]
    },
    {
      "cell_type": "code",
      "source": [
        "#4. Write a code to convert the string \"hello\" to uppercase\n",
        "a=\"hello\"\n",
        "print(a.upper())"
      ],
      "metadata": {
        "colab": {
          "base_uri": "https://localhost:8080/"
        },
        "id": "54LtjX0qWrz1",
        "outputId": "8cd75911-8a3d-4b63-ff7c-b47b99f7f7a2"
      },
      "execution_count": 8,
      "outputs": [
        {
          "output_type": "stream",
          "name": "stdout",
          "text": [
            "HELLO\n"
          ]
        }
      ]
    },
    {
      "cell_type": "code",
      "source": [
        "#5. Write a code to replace the word \"apple\" with \"orange\" in the string \"I like apple\"\n",
        "a=\"I like apple\"\n",
        "b=a.replace(\"apple\", \"orange\")\n",
        "print(b)"
      ],
      "metadata": {
        "colab": {
          "base_uri": "https://localhost:8080/"
        },
        "id": "rgvpIN-MXDhS",
        "outputId": "6a53d481-3672-4657-f52d-8d729fb0ca18"
      },
      "execution_count": 10,
      "outputs": [
        {
          "output_type": "stream",
          "name": "stdout",
          "text": [
            "I like orange\n"
          ]
        }
      ]
    },
    {
      "cell_type": "code",
      "source": [
        "#6. Write a code to create a list with numbers 1 to 5 and print it\n",
        "numbers = [1, 2, 3, 4, 5]\n",
        "print(numbers)"
      ],
      "metadata": {
        "colab": {
          "base_uri": "https://localhost:8080/"
        },
        "id": "EJqwkCbYXDdz",
        "outputId": "c2bf9c7e-6c03-421a-843d-17d823a8d82e"
      },
      "execution_count": 11,
      "outputs": [
        {
          "output_type": "stream",
          "name": "stdout",
          "text": [
            "[1, 2, 3, 4, 5]\n"
          ]
        }
      ]
    },
    {
      "cell_type": "code",
      "source": [
        "#7.Write a code to append the number 10 to the list [1, 2, 3, 4]\n",
        "l=[1,2,3,4]\n",
        "l.append(10)\n",
        "print(l)"
      ],
      "metadata": {
        "colab": {
          "base_uri": "https://localhost:8080/"
        },
        "id": "hdSlMVcEYRI0",
        "outputId": "73be56d7-9540-42d0-c35d-f8288ab8abf5"
      },
      "execution_count": 13,
      "outputs": [
        {
          "output_type": "stream",
          "name": "stdout",
          "text": [
            "[1, 2, 3, 4, 10]\n"
          ]
        }
      ]
    },
    {
      "cell_type": "code",
      "source": [
        "#8. Write a code to remove the number 3 from the list [1, 2, 3, 4, 5]\n",
        "l=[1, 2, 3, 4, 5]\n",
        "l.remove(3)\n",
        "print(l)"
      ],
      "metadata": {
        "colab": {
          "base_uri": "https://localhost:8080/"
        },
        "id": "YoyrfwsUYRFm",
        "outputId": "e9b46656-d10e-4f29-86f1-09d7eceb15b2"
      },
      "execution_count": 15,
      "outputs": [
        {
          "output_type": "stream",
          "name": "stdout",
          "text": [
            "[1, 2, 4, 5]\n"
          ]
        }
      ]
    },
    {
      "cell_type": "code",
      "source": [
        "#9. Write a code to access the second element in the list ['a', 'b', 'c', 'd']\n",
        "l= ['a', 'b', 'c', 'd']\n",
        "l[1]"
      ],
      "metadata": {
        "colab": {
          "base_uri": "https://localhost:8080/",
          "height": 36
        },
        "id": "gJijPaw_Y_o9",
        "outputId": "593e2e03-d0fd-494a-c125-0efc3437d86f"
      },
      "execution_count": 16,
      "outputs": [
        {
          "output_type": "execute_result",
          "data": {
            "text/plain": [
              "'b'"
            ],
            "application/vnd.google.colaboratory.intrinsic+json": {
              "type": "string"
            }
          },
          "metadata": {},
          "execution_count": 16
        }
      ]
    },
    {
      "cell_type": "code",
      "source": [
        "#10. Write a code to reverse the list [10, 20, 30, 40, 50].\n",
        "l=[10, 20, 30, 40, 50]\n",
        "l.reverse()\n",
        "print(l)"
      ],
      "metadata": {
        "colab": {
          "base_uri": "https://localhost:8080/"
        },
        "id": "S-vDsZGoY_l_",
        "outputId": "9f53ff65-f888-45e5-c5f7-0c687f558d1b"
      },
      "execution_count": 19,
      "outputs": [
        {
          "output_type": "stream",
          "name": "stdout",
          "text": [
            "[50, 40, 30, 20, 10]\n"
          ]
        }
      ]
    },
    {
      "cell_type": "code",
      "source": [
        "#11. Write a code to create a tuple with the elements 100, 200, 300 and print it.\n",
        "t=(100, 200, 300)\n",
        "print(t)"
      ],
      "metadata": {
        "colab": {
          "base_uri": "https://localhost:8080/"
        },
        "id": "1hYnWrrEY_jO",
        "outputId": "6ebc4a1f-6f6b-4a5a-f964-e383e6232939"
      },
      "execution_count": 20,
      "outputs": [
        {
          "output_type": "stream",
          "name": "stdout",
          "text": [
            "(100, 200, 300)\n"
          ]
        }
      ]
    },
    {
      "cell_type": "code",
      "source": [
        "# 12. Write a code to access the second-to-last element of the tuple ('red', 'green', 'blue', 'yellow').\n",
        "t=('red', 'green', 'blue', 'yellow')\n",
        "t[1:]"
      ],
      "metadata": {
        "colab": {
          "base_uri": "https://localhost:8080/"
        },
        "id": "voFtCaroZwdz",
        "outputId": "701ca374-2259-4ded-ff4f-ebc9963fe8fc"
      },
      "execution_count": 21,
      "outputs": [
        {
          "output_type": "execute_result",
          "data": {
            "text/plain": [
              "('green', 'blue', 'yellow')"
            ]
          },
          "metadata": {},
          "execution_count": 21
        }
      ]
    },
    {
      "cell_type": "code",
      "source": [
        "# 13. Write a code to find the minimum number in the tuple (10, 20, 5, 15).\n",
        "t=(10, 20, 5, 15)\n",
        "min(t)"
      ],
      "metadata": {
        "colab": {
          "base_uri": "https://localhost:8080/"
        },
        "id": "DEaxDcMHZwZO",
        "outputId": "6c2dd3a0-68c1-4cca-8b05-654715c8d45f"
      },
      "execution_count": 22,
      "outputs": [
        {
          "output_type": "execute_result",
          "data": {
            "text/plain": [
              "5"
            ]
          },
          "metadata": {},
          "execution_count": 22
        }
      ]
    },
    {
      "cell_type": "code",
      "source": [
        "# 14. Write a code to find the index of the element \"cat\" in the tuple ('dog', 'cat', 'rabbit').\n",
        "t=('dog', 'cat', 'rabbit')\n",
        "t.index(\"cat\")"
      ],
      "metadata": {
        "colab": {
          "base_uri": "https://localhost:8080/"
        },
        "id": "7MfGAICLaILk",
        "outputId": "24204884-61ab-40f3-cc3d-b670f5b288a3"
      },
      "execution_count": 24,
      "outputs": [
        {
          "output_type": "execute_result",
          "data": {
            "text/plain": [
              "1"
            ]
          },
          "metadata": {},
          "execution_count": 24
        }
      ]
    },
    {
      "cell_type": "code",
      "source": [
        "#15.Write a code to create a tuple containing three different fruits and check if \"kiwi\" is in it.\n",
        "f=(\"banana\",\"kiwi\",\"pineapple\")\n",
        "print(\"kiwi\" in f)"
      ],
      "metadata": {
        "colab": {
          "base_uri": "https://localhost:8080/"
        },
        "id": "Gb9KE3TJaIHz",
        "outputId": "00d5be6d-b780-4846-8881-879e50da6322"
      },
      "execution_count": 25,
      "outputs": [
        {
          "output_type": "stream",
          "name": "stdout",
          "text": [
            "True\n"
          ]
        }
      ]
    },
    {
      "cell_type": "code",
      "source": [
        "#16. Write a code to create a set with the elements 'a', 'b', 'c' and print it.\n",
        "s={'a', 'b', 'c' }\n",
        "print(s)"
      ],
      "metadata": {
        "colab": {
          "base_uri": "https://localhost:8080/"
        },
        "id": "nRxufaJUaIE8",
        "outputId": "75a19ed7-5051-4417-983a-590383e5dd19"
      },
      "execution_count": 26,
      "outputs": [
        {
          "output_type": "stream",
          "name": "stdout",
          "text": [
            "{'b', 'a', 'c'}\n"
          ]
        }
      ]
    },
    {
      "cell_type": "code",
      "source": [
        "# 17. Write a code to clear all elements from the set {1, 2, 3, 4, 5}.\n",
        "f={1, 2, 3, 4, 5}\n",
        "f.clear()\n",
        "print(f)"
      ],
      "metadata": {
        "colab": {
          "base_uri": "https://localhost:8080/"
        },
        "id": "EIAXB1mxaxeo",
        "outputId": "0103cf3f-05e8-4f69-865d-dd97e5e5ded3"
      },
      "execution_count": 28,
      "outputs": [
        {
          "output_type": "stream",
          "name": "stdout",
          "text": [
            "set()\n"
          ]
        }
      ]
    },
    {
      "cell_type": "code",
      "source": [
        "# 18. Write a code to remove the element 4 from the set {1, 2, 3, 4}.\n",
        "a={1, 2, 3, 4}\n",
        "a.remove(4)\n",
        "print(a)"
      ],
      "metadata": {
        "colab": {
          "base_uri": "https://localhost:8080/"
        },
        "id": "SZzpeNUVa_te",
        "outputId": "223d03b6-8553-4827-9561-b25beafe0929"
      },
      "execution_count": 30,
      "outputs": [
        {
          "output_type": "stream",
          "name": "stdout",
          "text": [
            "{1, 2, 3}\n"
          ]
        }
      ]
    },
    {
      "cell_type": "code",
      "source": [
        "# 19. Write a code to find the union of two sets {1, 2, 3} and {3, 4, 5}.\n",
        "a={1, 2, 3}\n",
        "b={3, 4, 5}\n",
        "union_set = a | b\n",
        "print(union_set)"
      ],
      "metadata": {
        "colab": {
          "base_uri": "https://localhost:8080/"
        },
        "id": "3ZWnrKAia_qe",
        "outputId": "504dab20-a2b6-49b6-e7a1-7f1f057b63a9"
      },
      "execution_count": 33,
      "outputs": [
        {
          "output_type": "stream",
          "name": "stdout",
          "text": [
            "{1, 2, 3, 4, 5}\n"
          ]
        }
      ]
    },
    {
      "cell_type": "code",
      "source": [
        "#20.Write a code to find the intersection of two sets {1, 2, 3} and {2, 3, 4}.\n",
        "a={1,2,3}\n",
        "b={2,3,4}\n",
        "print(a&b)"
      ],
      "metadata": {
        "colab": {
          "base_uri": "https://localhost:8080/"
        },
        "id": "gxDA5vxga_n3",
        "outputId": "8a607ba0-cc5a-45c4-c89a-cc2d25fa4526"
      },
      "execution_count": 34,
      "outputs": [
        {
          "output_type": "stream",
          "name": "stdout",
          "text": [
            "{2, 3}\n"
          ]
        }
      ]
    },
    {
      "cell_type": "code",
      "source": [
        "#21. Write a code to create a dictionary with the keys \"name\", \"age\", and \"city\", and print it.\n",
        "info = {\n",
        "    \"name\": \"Sagar\",\n",
        "    \"age\": 20,\n",
        "    \"city\": \"Patna\"\n",
        "}\n",
        "print(info)"
      ],
      "metadata": {
        "colab": {
          "base_uri": "https://localhost:8080/"
        },
        "id": "0koi6HeycUok",
        "outputId": "45f26811-b376-4a30-e0ea-f7666bac4f36"
      },
      "execution_count": 35,
      "outputs": [
        {
          "output_type": "stream",
          "name": "stdout",
          "text": [
            "{'name': 'Sagar', 'age': 20, 'city': 'Patna'}\n"
          ]
        }
      ]
    },
    {
      "cell_type": "code",
      "source": [
        "#22.. Write a code to add a new key-value pair \"country\": \"USA\" to the dictionary {'name': 'John', 'age': 25}.\n",
        "info2={'name': 'John', 'age': 25}\n",
        "info2[\"Country\"]=\"USA\"\n",
        "print(info2)"
      ],
      "metadata": {
        "colab": {
          "base_uri": "https://localhost:8080/"
        },
        "id": "VnW9P3ZfcUkE",
        "outputId": "8dccee74-af2e-4808-a769-2bbcb8ff6ab2"
      },
      "execution_count": 37,
      "outputs": [
        {
          "output_type": "stream",
          "name": "stdout",
          "text": [
            "{'name': 'John', 'age': 25, 'Country': 'USA'}\n"
          ]
        }
      ]
    },
    {
      "cell_type": "code",
      "source": [
        "#23.write a code to access the value associated with the key \"name\" in the dictionary {'name': 'Alice', 'age': 30}.\n",
        "info3={'name': 'Alice', 'age': 30}\n",
        "print(info3[\"name\"])"
      ],
      "metadata": {
        "colab": {
          "base_uri": "https://localhost:8080/"
        },
        "id": "puoENdTfcUgl",
        "outputId": "914c9e53-1b9a-47e9-ebaa-ad8c263d00d1"
      },
      "execution_count": 38,
      "outputs": [
        {
          "output_type": "stream",
          "name": "stdout",
          "text": [
            "Alice\n"
          ]
        }
      ]
    },
    {
      "cell_type": "code",
      "source": [
        "#24.. Write a code to remove the key \"age\" from the dictionary {'name': 'Bob', 'age': 22, 'city': 'New York'}.\n",
        "info4= {'name': 'Bob', 'age': 22, 'city': 'New York'}\n",
        "del info4[\"age\"]\n",
        "print(info4)"
      ],
      "metadata": {
        "colab": {
          "base_uri": "https://localhost:8080/"
        },
        "id": "FoTvzUgCd0Kw",
        "outputId": "c7ba889f-5cdf-488a-9df0-59a2d4704c87"
      },
      "execution_count": 41,
      "outputs": [
        {
          "output_type": "stream",
          "name": "stdout",
          "text": [
            "{'name': 'Bob', 'city': 'New York'}\n"
          ]
        }
      ]
    },
    {
      "cell_type": "code",
      "source": [
        "#25.Write a code to check if the key \"city\" exists in the dictionary {'name': 'Alice', 'city': 'Paris'}.\n",
        "info5={'name': 'Alice', 'city': 'Paris'}\n",
        "print(\"city\" in info5)"
      ],
      "metadata": {
        "colab": {
          "base_uri": "https://localhost:8080/"
        },
        "id": "jXADuycGd0HR",
        "outputId": "068f823e-156d-4f6f-e618-238768d9b423"
      },
      "execution_count": 42,
      "outputs": [
        {
          "output_type": "stream",
          "name": "stdout",
          "text": [
            "True\n"
          ]
        }
      ]
    },
    {
      "cell_type": "code",
      "source": [
        "# 26. Write a code to create a list, a tuple, and a dictionary, and print them all.\n",
        "my_list = [1, 2, 3, 4, 5]\n",
        "my_tuple = ('a', 'b', 'c', 'd', 'e')\n",
        "\n",
        "my_dict = {'name': 'Alice', 'age': 25, 'city': 'Wonderland'}\n",
        "print(\"List:\", my_list)\n",
        "\n",
        "print(\"Tuple:\", my_tuple)\n",
        "\n",
        "print(\"Dictionary:\", my_dict)"
      ],
      "metadata": {
        "colab": {
          "base_uri": "https://localhost:8080/"
        },
        "id": "GqgWniCed0EP",
        "outputId": "95721bd1-fefb-4711-ed59-db559fe7e7c6"
      },
      "execution_count": 43,
      "outputs": [
        {
          "output_type": "stream",
          "name": "stdout",
          "text": [
            "List: [1, 2, 3, 4, 5]\n",
            "Tuple: ('a', 'b', 'c', 'd', 'e')\n",
            "Dictionary: {'name': 'Alice', 'age': 25, 'city': 'Wonderland'}\n"
          ]
        }
      ]
    },
    {
      "cell_type": "code",
      "source": [
        "#27.Write a code to create a list of 5 random numbers between 1 and 100, sort it in ascending order, and print the result.(replaced)\n",
        "import random\n",
        "\n",
        "random_numbers = [random.randint(1, 100) for _ in range(5)]\n",
        "\n",
        "random_numbers.sort()\n",
        "print(\"Sorted list of random numbers:\", random_numbers)"
      ],
      "metadata": {
        "colab": {
          "base_uri": "https://localhost:8080/"
        },
        "id": "h30OVuv6d0BY",
        "outputId": "2ed5eb6b-df79-4de9-86bd-3e9329c1d11d"
      },
      "execution_count": 44,
      "outputs": [
        {
          "output_type": "stream",
          "name": "stdout",
          "text": [
            "Sorted list of random numbers: [26, 43, 43, 58, 91]\n"
          ]
        }
      ]
    },
    {
      "cell_type": "markdown",
      "source": [],
      "metadata": {
        "id": "l659Oh3ZDk6H"
      }
    },
    {
      "cell_type": "code",
      "source": [
        "#28. Write a code to create a list with strings and print the element at the third index.\n",
        "my_list = [\"apple\", \"banana\", \"cherry\", \"date\", \"elderberry\"]\n",
        "print(my_list[3])"
      ],
      "metadata": {
        "colab": {
          "base_uri": "https://localhost:8080/"
        },
        "id": "TDwUtVAefF7k",
        "outputId": "7dd76719-ef0b-42db-998b-6251944aa297"
      },
      "execution_count": 45,
      "outputs": [
        {
          "output_type": "stream",
          "name": "stdout",
          "text": [
            "date\n"
          ]
        }
      ]
    },
    {
      "cell_type": "code",
      "source": [
        "# 29. Write a code to combine two dictionaries into one and print the result.\n",
        "dict1 = {'a': 1, 'b': 2, 'c': 3}\n",
        "dict2 = {'d': 4, 'e': 5, 'f': 6}\n",
        "combined_dict = {**dict1, **dict2}\n",
        "print(\"Combined Dictionary:\", combined_dict)"
      ],
      "metadata": {
        "colab": {
          "base_uri": "https://localhost:8080/"
        },
        "id": "cR7xijZIfTml",
        "outputId": "d7751cfe-f509-4fe9-dc5e-8f33b784493f"
      },
      "execution_count": 46,
      "outputs": [
        {
          "output_type": "stream",
          "name": "stdout",
          "text": [
            "Combined Dictionary: {'a': 1, 'b': 2, 'c': 3, 'd': 4, 'e': 5, 'f': 6}\n"
          ]
        }
      ]
    },
    {
      "cell_type": "code",
      "source": [
        "#30.Write a code to convert a list of strings into a set.\n",
        "l=[\"apple\",\"banana\",\"grapes\",\"grapes\",\"banana\",\"apple\"]\n",
        "print(set(l))"
      ],
      "metadata": {
        "colab": {
          "base_uri": "https://localhost:8080/"
        },
        "id": "G_CWZ0erfu9N",
        "outputId": "d4295152-baab-404f-cd12-4e32bb25c0b6"
      },
      "execution_count": 47,
      "outputs": [
        {
          "output_type": "stream",
          "name": "stdout",
          "text": [
            "{'grapes', 'apple', 'banana'}\n"
          ]
        }
      ]
    },
    {
      "cell_type": "code",
      "source": [
        ""
      ],
      "metadata": {
        "id": "7melvsxHgFtk"
      },
      "execution_count": null,
      "outputs": []
    }
  ]
}